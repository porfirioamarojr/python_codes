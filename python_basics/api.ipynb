{
 "cells": [
  {
   "cell_type": "code",
   "execution_count": 1,
   "id": "1b75dbd1",
   "metadata": {},
   "outputs": [
    {
     "name": "stdout",
     "output_type": "stream",
     "text": [
      "Defaulting to user installation because normal site-packages is not writeable\n",
      "Requirement already satisfied: requests in /usr/lib/python3.9/site-packages (2.26.0)\n",
      "Requirement already satisfied: chardet>=3.0.2 in /usr/lib/python3.9/site-packages (from requests) (4.0.0)\n",
      "Requirement already satisfied: idna>=2.5 in /usr/lib/python3.9/site-packages (from requests) (3.3)\n",
      "Requirement already satisfied: urllib3>=1.21.1 in /usr/lib/python3.9/site-packages (from requests) (1.26.7)\n"
     ]
    }
   ],
   "source": [
    "!pip install requests"
   ]
  },
  {
   "cell_type": "code",
   "execution_count": 1,
   "id": "c7242fef",
   "metadata": {},
   "outputs": [],
   "source": [
    "import requests"
   ]
  },
  {
   "cell_type": "code",
   "execution_count": 2,
   "id": "f3c64f7b",
   "metadata": {},
   "outputs": [
    {
     "name": "stdout",
     "output_type": "stream",
     "text": [
      "200\n"
     ]
    }
   ],
   "source": [
    "url = 'https://api.exchangerate-api.com/v6/latest'\n",
    "\n",
    "req = requests.get(url)\n",
    "\n",
    "print(req.status_code)"
   ]
  },
  {
   "cell_type": "code",
   "execution_count": 3,
   "id": "562abfad",
   "metadata": {},
   "outputs": [
    {
     "name": "stdout",
     "output_type": "stream",
     "text": [
      "{'result': 'success', 'provider': 'https://www.exchangerate-api.com', 'documentation': 'https://www.exchangerate-api.com/docs/free', 'terms_of_use': 'https://www.exchangerate-api.com/terms', 'time_last_update_unix': 1637971351, 'time_last_update_utc': 'Sat, 27 Nov 2021 00:02:31 +0000', 'time_next_update_unix': 1638059101, 'time_next_update_utc': 'Sun, 28 Nov 2021 00:25:01 +0000', 'time_eol_unix': 0, 'base_code': 'USD', 'rates': {'USD': 1, 'AED': 3.67, 'AFN': 94.05, 'ALL': 107.98, 'AMD': 480.15, 'ANG': 1.79, 'AOA': 590.78, 'ARS': 100.55, 'AUD': 1.4, 'AWG': 1.79, 'AZN': 1.7, 'BAM': 1.73, 'BBD': 2, 'BDT': 85.57, 'BGN': 1.73, 'BHD': 0.376, 'BIF': 1987.45, 'BMD': 1, 'BND': 1.37, 'BOB': 6.88, 'BRL': 5.59, 'BSD': 1, 'BTN': 74.99, 'BWP': 11.81, 'BYN': 2.53, 'BZD': 2, 'CAD': 1.27, 'CDF': 1997.21, 'CHF': 0.927, 'CLP': 819.57, 'CNY': 6.39, 'COP': 3931.06, 'CRC': 635.4, 'CUC': 1, 'CUP': 25, 'CVE': 97.62, 'CZK': 22.76, 'DJF': 177.72, 'DKK': 6.6, 'DOP': 56.45, 'DZD': 138.81, 'EGP': 15.7, 'ERN': 15, 'ETB': 48.09, 'EUR': 0.885, 'FJD': 2.11, 'FKP': 0.749, 'FOK': 6.6, 'GBP': 0.749, 'GEL': 3.1, 'GGP': 0.749, 'GHS': 6.12, 'GIP': 0.749, 'GMD': 52.58, 'GNF': 9529.04, 'GTQ': 7.73, 'GYD': 208.85, 'HKD': 7.79, 'HNL': 24.08, 'HRK': 6.67, 'HTG': 99.05, 'HUF': 326.28, 'IDR': 14267.64, 'ILS': 3.18, 'IMP': 0.749, 'INR': 75, 'IQD': 1456.52, 'IRR': 41957.63, 'ISK': 130.76, 'JMD': 155.83, 'JOD': 0.709, 'JPY': 114.15, 'KES': 112.2, 'KGS': 84.62, 'KHR': 4058.67, 'KID': 1.4, 'KMF': 435.55, 'KRW': 1193.28, 'KWD': 0.3, 'KYD': 0.833, 'KZT': 432.68, 'LAK': 10769.49, 'LBP': 1507.5, 'LKR': 201.4, 'LRD': 142.63, 'LSL': 16.14, 'LYD': 4.6, 'MAD': 9.24, 'MDL': 17.73, 'MGA': 3981.46, 'MKD': 54.87, 'MMK': 1776.34, 'MNT': 2844.39, 'MOP': 8.03, 'MRU': 36.18, 'MUR': 43.11, 'MVR': 15.41, 'MWK': 814.78, 'MXN': 21.83, 'MYR': 4.23, 'MZN': 63.98, 'NAD': 16.14, 'NGN': 421.23, 'NIO': 35.19, 'NOK': 9.02, 'NPR': 119.99, 'NZD': 1.46, 'OMR': 0.384, 'PAB': 1, 'PEN': 4.02, 'PGK': 3.52, 'PHP': 50.44, 'PKR': 174.99, 'PLN': 4.16, 'PYG': 6825.84, 'QAR': 3.64, 'RON': 4.39, 'RSD': 104.66, 'RUB': 75.24, 'RWF': 1034.17, 'SAR': 3.75, 'SBD': 8.06, 'SCR': 13.26, 'SDG': 438.34, 'SEK': 9.1, 'SGD': 1.37, 'SHP': 0.749, 'SLL': 10958.4, 'SOS': 577.48, 'SRD': 21.51, 'SSP': 311.33, 'STN': 21.69, 'SYP': 2495.41, 'SZL': 16.14, 'THB': 33.56, 'TJS': 11.26, 'TMT': 3.5, 'TND': 2.89, 'TOP': 2.26, 'TRY': 12.21, 'TTD': 6.77, 'TVD': 1.4, 'TWD': 27.8, 'TZS': 2299.21, 'UAH': 27.06, 'UGX': 3559.96, 'UYU': 43.99, 'UZS': 10733.57, 'VES': 4.58, 'VND': 22623.99, 'VUV': 111.61, 'WST': 2.57, 'XAF': 580.74, 'XCD': 2.7, 'XDR': 0.715, 'XOF': 580.74, 'XPF': 105.65, 'YER': 249.9, 'ZAR': 16.14, 'ZMW': 17.69}}\n"
     ]
    }
   ],
   "source": [
    "dados = req.json()\n",
    "\n",
    "print(dados)"
   ]
  },
  {
   "cell_type": "code",
   "execution_count": 4,
   "id": "b4f1b32b",
   "metadata": {},
   "outputs": [
    {
     "name": "stdout",
     "output_type": "stream",
     "text": [
      "Informe o valor em R$ a ser convertido\n",
      "100\n",
      "R$100.0 em dólar valem US$ 17.89\n"
     ]
    }
   ],
   "source": [
    "val_reais = float(input(\"Informe o valor em R$ a ser convertido\\n\"))\n",
    "cotacao = dados['rates']['BRL']\n",
    "print(f'R${val_reais} em dólar valem US$ {(val_reais/cotacao):.2f}')"
   ]
  },
  {
   "cell_type": "code",
   "execution_count": null,
   "id": "1bf783fd",
   "metadata": {},
   "outputs": [],
   "source": []
  }
 ],
 "metadata": {
  "kernelspec": {
   "display_name": "Python 3 (ipykernel)",
   "language": "python",
   "name": "python3"
  },
  "language_info": {
   "codemirror_mode": {
    "name": "ipython",
    "version": 3
   },
   "file_extension": ".py",
   "mimetype": "text/x-python",
   "name": "python",
   "nbconvert_exporter": "python",
   "pygments_lexer": "ipython3",
   "version": "3.9.7"
  }
 },
 "nbformat": 4,
 "nbformat_minor": 5
}

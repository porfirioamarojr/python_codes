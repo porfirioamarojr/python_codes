{
 "cells": [
  {
   "cell_type": "code",
   "execution_count": 1,
   "id": "f7307512",
   "metadata": {},
   "outputs": [],
   "source": [
    "def calcula_media(val = 0, val2 = 0, val3 = 0):\n",
    "    soma = val + val2 + val3\n",
    "    media = soma/3\n",
    "    return media"
   ]
  },
  {
   "cell_type": "code",
   "execution_count": 10,
   "id": "47a6ef41",
   "metadata": {},
   "outputs": [],
   "source": [
    "def calcula_media(*args, margem):\n",
    "    soma = sum(args)\n",
    "    media = soma/len(args)\n",
    "    return media + margem"
   ]
  },
  {
   "cell_type": "code",
   "execution_count": 11,
   "id": "85521d74",
   "metadata": {},
   "outputs": [
    {
     "data": {
      "text/plain": [
       "9.3"
      ]
     },
     "execution_count": 11,
     "metadata": {},
     "output_type": "execute_result"
    }
   ],
   "source": [
    "calcula_media(10,8,9,margem = 0.3)"
   ]
  },
  {
   "cell_type": "code",
   "execution_count": 12,
   "id": "37ef0251",
   "metadata": {},
   "outputs": [],
   "source": [
    "def print_info(**kwargs):\n",
    "    print(kwargs, type(kwargs))"
   ]
  },
  {
   "cell_type": "code",
   "execution_count": 13,
   "id": "b41e6a80",
   "metadata": {},
   "outputs": [
    {
     "name": "stdout",
     "output_type": "stream",
     "text": [
      "{'nome': 'Amaro', 'sobrenome': 'Junior'} <class 'dict'>\n"
     ]
    }
   ],
   "source": [
    "print_info(nome = 'Amaro', sobrenome = 'Junior')"
   ]
  },
  {
   "cell_type": "code",
   "execution_count": null,
   "id": "fb89d370",
   "metadata": {},
   "outputs": [],
   "source": []
  }
 ],
 "metadata": {
  "kernelspec": {
   "display_name": "Python 3 (ipykernel)",
   "language": "python",
   "name": "python3"
  },
  "language_info": {
   "codemirror_mode": {
    "name": "ipython",
    "version": 3
   },
   "file_extension": ".py",
   "mimetype": "text/x-python",
   "name": "python",
   "nbconvert_exporter": "python",
   "pygments_lexer": "ipython3",
   "version": "3.9.7"
  }
 },
 "nbformat": 4,
 "nbformat_minor": 5
}

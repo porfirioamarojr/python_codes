{
 "cells": [
  {
   "cell_type": "code",
   "execution_count": 6,
   "id": "4b363c90",
   "metadata": {},
   "outputs": [
    {
     "name": "stdout",
     "output_type": "stream",
     "text": [
      "1 Item limpo!\n",
      "2 Itens limpos!\n",
      "3 Itens limpos!\n",
      "4 Itens limpos!\n",
      "5 Itens limpos!\n",
      "6 Itens limpos!\n",
      "7 Itens limpos!\n",
      "8 Itens limpos!\n",
      "9 Itens limpos!\n",
      "10 Itens limpos!\n",
      "Fim da repetição do bloco while!\n"
     ]
    }
   ],
   "source": [
    "cont = 0\n",
    "\n",
    "while cont < 10:\n",
    "    cont = cont + 1\n",
    "    if cont == 1:\n",
    "        print(cont, \"Item limpo!\")\n",
    "    else:\n",
    "        print(cont, \"Itens limpos!\")\n",
    "        \n",
    "print(\"Fim da repetição do bloco while!\")"
   ]
  },
  {
   "cell_type": "code",
   "execution_count": 5,
   "id": "ebc607bc",
   "metadata": {},
   "outputs": [
    {
     "name": "stdout",
     "output_type": "stream",
     "text": [
      "1 Item limpo!\n",
      "2 Itens limpos!\n",
      "3 Itens limpos!\n",
      "4 Itens limpos!\n",
      "5 Itens limpos!\n",
      "6 Itens limpos!\n",
      "7 Itens limpos!\n",
      "8 Itens limpos!\n",
      "9 Itens limpos!\n",
      "10 Itens limpos!\n",
      "Fim da repetição do bloco while!\n"
     ]
    }
   ],
   "source": [
    "cont = 0\n",
    "\n",
    "while True:\n",
    "    if cont < 10:\n",
    "        cont = cont + 1\n",
    "        if cont == 1:\n",
    "            print(cont, \"Item limpo!\")\n",
    "        else:\n",
    "            print(cont, \"Itens limpos!\")\n",
    "    else:\n",
    "        break   \n",
    "        \n",
    "print(\"Fim da repetição do bloco while!\")\n",
    "    "
   ]
  },
  {
   "cell_type": "code",
   "execution_count": 10,
   "id": "48f0d8b0",
   "metadata": {},
   "outputs": [
    {
     "name": "stdout",
     "output_type": "stream",
     "text": [
      "Digite a sua senha: \"abc\"\n",
      "Tente novamente: ABC\n",
      "Tente novamente: abc\n",
      "Acesso permitido!!!\n"
     ]
    }
   ],
   "source": [
    "text = input(\"Digite a sua senha: \")\n",
    "\n",
    "while text != \"abc\":\n",
    "    text = input(\"Tente novamente: \")\n",
    "    \n",
    "print(\"Acesso permitido!!!\")    "
   ]
  },
  {
   "cell_type": "code",
   "execution_count": 11,
   "id": "63c246ee",
   "metadata": {},
   "outputs": [
    {
     "name": "stdout",
     "output_type": "stream",
     "text": [
      "2 Itens limpos!\n",
      "3 Itens limpos!\n",
      "4 Itens limpos!\n",
      "5 Itens limpos!\n",
      "6 Itens limpos!\n",
      "7 Itens limpos!\n",
      "8 Itens limpos!\n",
      "9 Itens limpos!\n",
      "10 Itens limpos!\n",
      "Acesso permitido!!!\n"
     ]
    }
   ],
   "source": [
    "cont = 0\n",
    "\n",
    "while cont < 10:\n",
    "    cont = cont + 1\n",
    "    if cont == 1:\n",
    "        continue\n",
    "    print(cont, \"Itens limpos!\")\n",
    "    \n",
    "print(\"Acesso permitido!!!\")    "
   ]
  },
  {
   "cell_type": "code",
   "execution_count": null,
   "id": "787a306c",
   "metadata": {},
   "outputs": [],
   "source": []
  }
 ],
 "metadata": {
  "kernelspec": {
   "display_name": "Python 3 (ipykernel)",
   "language": "python",
   "name": "python3"
  },
  "language_info": {
   "codemirror_mode": {
    "name": "ipython",
    "version": 3
   },
   "file_extension": ".py",
   "mimetype": "text/x-python",
   "name": "python",
   "nbconvert_exporter": "python",
   "pygments_lexer": "ipython3",
   "version": "3.9.7"
  }
 },
 "nbformat": 4,
 "nbformat_minor": 5
}

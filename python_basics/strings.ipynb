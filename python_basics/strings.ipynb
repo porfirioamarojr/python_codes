{
 "cells": [
  {
   "cell_type": "code",
   "execution_count": 1,
   "id": "bf807c50",
   "metadata": {},
   "outputs": [
    {
     "name": "stdout",
     "output_type": "stream",
     "text": [
      "Indra\n"
     ]
    }
   ],
   "source": [
    "empresa = 'Indra'\n",
    "print(empresa)"
   ]
  },
  {
   "cell_type": "code",
   "execution_count": 2,
   "id": "5064c5f1",
   "metadata": {},
   "outputs": [
    {
     "name": "stdout",
     "output_type": "stream",
     "text": [
      "Indra\n"
     ]
    }
   ],
   "source": [
    "empresa = \"Indra\"\n",
    "print(empresa)"
   ]
  },
  {
   "cell_type": "code",
   "execution_count": 3,
   "id": "f29b1a09",
   "metadata": {},
   "outputs": [
    {
     "name": "stdout",
     "output_type": "stream",
     "text": [
      "Let's Code\n"
     ]
    }
   ],
   "source": [
    "empresa = \"Let's Code\"\n",
    "print(empresa)"
   ]
  },
  {
   "cell_type": "code",
   "execution_count": 12,
   "id": "6183fc03",
   "metadata": {},
   "outputs": [
    {
     "name": "stdout",
     "output_type": "stream",
     "text": [
      "El profesor Pitro de la Let's Code Hablo: \"Hoy la pizza es por mi cuenta\"\n"
     ]
    }
   ],
   "source": [
    "frase = \"El profesor Pitro de la Let's Code Hablo: \\\"Hoy la pizza es por mi cuenta\\\"\"\n",
    "print(frase)"
   ]
  },
  {
   "cell_type": "code",
   "execution_count": 6,
   "id": "c8a0f268",
   "metadata": {},
   "outputs": [
    {
     "name": "stdout",
     "output_type": "stream",
     "text": [
      "I\n"
     ]
    }
   ],
   "source": [
    "empresa = 'Indra'\n",
    "print(empresa[0])"
   ]
  },
  {
   "cell_type": "code",
   "execution_count": 7,
   "id": "5460625f",
   "metadata": {},
   "outputs": [
    {
     "name": "stdout",
     "output_type": "stream",
     "text": [
      "Ind\n"
     ]
    }
   ],
   "source": [
    "print(empresa[:3])"
   ]
  },
  {
   "cell_type": "code",
   "execution_count": 9,
   "id": "3f934245",
   "metadata": {},
   "outputs": [
    {
     "name": "stdout",
     "output_type": "stream",
     "text": [
      "['Natal', 'Barcelona', 'Recife', 'Rio De Janeiro']\n"
     ]
    }
   ],
   "source": [
    "nomes_cidades = \"Natal, Barcelona, Recife, Rio De Janeiro\"\n",
    "nomes_cidades = nomes_cidades.split(', ')\n",
    "print(nomes_cidades)"
   ]
  },
  {
   "cell_type": "code",
   "execution_count": 10,
   "id": "82a5d39e",
   "metadata": {},
   "outputs": [
    {
     "name": "stdout",
     "output_type": "stream",
     "text": [
      "MENU MAIN\n"
     ]
    }
   ],
   "source": [
    "cabecalho = \"                   MENU MAIN               \"\n",
    "print(cabecalho.strip())"
   ]
  },
  {
   "cell_type": "code",
   "execution_count": 11,
   "id": "4f3966ad",
   "metadata": {},
   "outputs": [
    {
     "name": "stdout",
     "output_type": "stream",
     "text": [
      "Rio De Janeiro\n",
      "Rio de janeiro\n",
      "rio de janeiro\n",
      "RIO DE JANEIRO\n"
     ]
    }
   ],
   "source": [
    "nome_cidade = 'Rio DE JanEIrO'\n",
    "print(nome_cidade.title()) # Rio De Janeiro\n",
    "print(nome_cidade.capitalize()) # Rio de janeiro\n",
    "print(nome_cidade.lower()) # rio de janeiro\n",
    "print(nome_cidade.upper()) # RIO DE JANEIRO"
   ]
  },
  {
   "cell_type": "code",
   "execution_count": 14,
   "id": "1f901fee",
   "metadata": {},
   "outputs": [
    {
     "name": "stdout",
     "output_type": "stream",
     "text": [
      "Que cidade do brasil é reconhecidade como cidade maravilhosa?Natal\n",
      "tenta de novo, vai!\n",
      "Que cidade do Brasil é reconhecida como cidade maravilhosa?belo horizonte\n",
      "tenta de novo, vai!\n",
      "Que cidade do Brasil é reconhecida como cidade maravilhosa?RIO DE JANEIro\n",
      "Booa, Campeão!!!\n"
     ]
    }
   ],
   "source": [
    "nome_cidade = input('Que cidade do brasil é reconhecidade como cidade maravilhosa?')\n",
    "nomce_cidade = nome_cidade.strip\n",
    "while nome_cidade.lower() != 'rio de janeiro':\n",
    "    print('tenta de novo, vai!')\n",
    "    nome_cidade = input('Que cidade do Brasil é reconhecida como cidade maravilhosa?')\n",
    "    \n",
    "print('Booa, Campeão!!!')"
   ]
  },
  {
   "cell_type": "code",
   "execution_count": 18,
   "id": "efdc7024",
   "metadata": {},
   "outputs": [
    {
     "name": "stdout",
     "output_type": "stream",
     "text": [
      "False\n"
     ]
    }
   ],
   "source": [
    "mensagem = 'Voce viu o que o Amaro disse na sala ontem?'\n",
    "fui_citado = 'Tiago' in mensagem\n",
    "print(fui_citado)"
   ]
  },
  {
   "cell_type": "code",
   "execution_count": null,
   "id": "3b197b69",
   "metadata": {},
   "outputs": [],
   "source": []
  }
 ],
 "metadata": {
  "kernelspec": {
   "display_name": "Python 3 (ipykernel)",
   "language": "python",
   "name": "python3"
  },
  "language_info": {
   "codemirror_mode": {
    "name": "ipython",
    "version": 3
   },
   "file_extension": ".py",
   "mimetype": "text/x-python",
   "name": "python",
   "nbconvert_exporter": "python",
   "pygments_lexer": "ipython3",
   "version": "3.9.7"
  }
 },
 "nbformat": 4,
 "nbformat_minor": 5
}

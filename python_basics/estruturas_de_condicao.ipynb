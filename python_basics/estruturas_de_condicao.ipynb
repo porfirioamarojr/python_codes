{
 "cells": [
  {
   "cell_type": "code",
   "execution_count": 2,
   "id": "36375ec0",
   "metadata": {},
   "outputs": [
    {
     "name": "stdout",
     "output_type": "stream",
     "text": [
      "Qual é o valor da corrida? 35.00\n",
      "Pegue o Busão!\n"
     ]
    }
   ],
   "source": [
    "valor_passagem = 4.30\n",
    "valor_corrida = input(\"Qual é o valor da corrida? \")\n",
    "\n",
    "if float(valor_corrida) <= valor_passagem * 5:\n",
    "    print(\"Pague a corrida!\")\n",
    "if float(valor_corrida) > valor_passagem * 5:\n",
    "    print(\"Pegue o Busão!\")"
   ]
  },
  {
   "cell_type": "code",
   "execution_count": 5,
   "id": "92837e1e",
   "metadata": {},
   "outputs": [
    {
     "name": "stdout",
     "output_type": "stream",
     "text": [
      "Qual é o valor da corrida? 17\n",
      "Pague a corrida!\n"
     ]
    }
   ],
   "source": [
    "valor_passagem = 4.30\n",
    "valor_corrida = input(\"Qual é o valor da corrida? \")\n",
    "\n",
    "if float(valor_corrida) <= valor_passagem * 5:\n",
    "    print(\"Pague a corrida!\")\n",
    "else:\n",
    "    print(\"Pegue o Busão!\")"
   ]
  },
  {
   "cell_type": "code",
   "execution_count": 8,
   "id": "4adb29a1",
   "metadata": {},
   "outputs": [
    {
     "name": "stdout",
     "output_type": "stream",
     "text": [
      "Qual é o valor da corrida? 35\n",
      "Pegue o busão\n"
     ]
    }
   ],
   "source": [
    "valor_passagem = 4.30\n",
    "valor_corrida = input(\"Qual é o valor da corrida? \")\n",
    "\n",
    "if float(valor_corrida) <= valor_passagem * 5:\n",
    "    print(\"Pague a corrida!\")\n",
    "else:\n",
    "    if float(valor_corrida) <= valor_passagem * 6:\n",
    "        print(\"Agurade um momento o valor pode baixar!\")\n",
    "    else:\n",
    "        print(\"Pegue o busão\")"
   ]
  },
  {
   "cell_type": "code",
   "execution_count": 11,
   "id": "b149962b",
   "metadata": {},
   "outputs": [
    {
     "name": "stdout",
     "output_type": "stream",
     "text": [
      "Qual é o valor da corrida? 35\n",
      "Pegue o busão\n"
     ]
    }
   ],
   "source": [
    "valor_passagem = 4.30\n",
    "valor_corrida = input(\"Qual é o valor da corrida? \")\n",
    "\n",
    "if float(valor_corrida) <= valor_passagem * 5:\n",
    "    print(\"Pague a corrida!\")\n",
    "elif float(valor_corrida) <= valor_passagem * 6:\n",
    "    print(\"Agurade um momento o valor pode baixar!\")\n",
    "else:\n",
    "    print(\"Pegue o busão\")"
   ]
  },
  {
   "cell_type": "code",
   "execution_count": null,
   "id": "44eb2d9d",
   "metadata": {},
   "outputs": [],
   "source": []
  }
 ],
 "metadata": {
  "kernelspec": {
   "display_name": "Python 3 (ipykernel)",
   "language": "python",
   "name": "python3"
  },
  "language_info": {
   "codemirror_mode": {
    "name": "ipython",
    "version": 3
   },
   "file_extension": ".py",
   "mimetype": "text/x-python",
   "name": "python",
   "nbconvert_exporter": "python",
   "pygments_lexer": "ipython3",
   "version": "3.9.7"
  }
 },
 "nbformat": 4,
 "nbformat_minor": 5
}

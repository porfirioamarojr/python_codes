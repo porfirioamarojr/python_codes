{
 "cells": [
  {
   "cell_type": "code",
   "execution_count": 1,
   "id": "4304a4cd",
   "metadata": {},
   "outputs": [],
   "source": [
    "import qrcode as qr"
   ]
  },
  {
   "cell_type": "code",
   "execution_count": 5,
   "id": "a37919fa",
   "metadata": {},
   "outputs": [],
   "source": [
    "#em cell phone number adicione um número válido\n",
    "#depois do yotube.com/ insira um link válido"
   ]
  },
  {
   "cell_type": "code",
   "execution_count": 2,
   "id": "bc008dea",
   "metadata": {},
   "outputs": [],
   "source": [
    "imagemqr = qr.make(\"https://wa.me/cell_phone_number?text=Olá,\\nQue%20bom%20que%20entrou%20em%20contato%20comigo.\\nSou%20xxxx%20xxxx,\\nEm%20que%20posso%20ser%20útil%20nesse%20momento%20a%20você?\")\n",
    "imagemqr.save(\"qr.png\")"
   ]
  },
  {
   "cell_type": "code",
   "execution_count": 12,
   "id": "f623f192",
   "metadata": {},
   "outputs": [
    {
     "name": "stdout",
     "output_type": "stream",
     "text": [
      "Defaulting to user installation because normal site-packages is not writeable\n",
      "Requirement already satisfied: qrcode in /home/amaroj/.local/lib/python3.10/site-packages (7.3.1)\n"
     ]
    }
   ],
   "source": [
    "!pip install qrcode"
   ]
  },
  {
   "cell_type": "code",
   "execution_count": 3,
   "id": "1f1c98da",
   "metadata": {},
   "outputs": [],
   "source": [
    "imagemqr = qr.make(\"https://www.youtube.com/\")\n",
    "imagemqr.save(\"qr_youtube.png\")"
   ]
  },
  {
   "cell_type": "code",
   "execution_count": 4,
   "id": "de928ab2",
   "metadata": {},
   "outputs": [],
   "source": []
  },
  {
   "cell_type": "code",
   "execution_count": null,
   "id": "a66a1efb",
   "metadata": {},
   "outputs": [],
   "source": []
  },
  {
   "cell_type": "code",
   "execution_count": null,
   "id": "c3e29ed8",
   "metadata": {},
   "outputs": [],
   "source": []
  }
 ],
 "metadata": {
  "kernelspec": {
   "display_name": "Python 3 (ipykernel)",
   "language": "python",
   "name": "python3"
  },
  "language_info": {
   "codemirror_mode": {
    "name": "ipython",
    "version": 3
   },
   "file_extension": ".py",
   "mimetype": "text/x-python",
   "name": "python",
   "nbconvert_exporter": "python",
   "pygments_lexer": "ipython3",
   "version": "3.10.6"
  }
 },
 "nbformat": 4,
 "nbformat_minor": 5
}

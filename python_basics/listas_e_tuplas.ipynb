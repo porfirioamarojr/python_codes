{
 "cells": [
  {
   "cell_type": "code",
   "execution_count": 2,
   "id": "273b4f19",
   "metadata": {},
   "outputs": [
    {
     "name": "stdout",
     "output_type": "stream",
     "text": [
      "['Peru', 'China', 'Brasil', 'Espanha', 'Argentina', 'Canadá', 'Japão']\n"
     ]
    }
   ],
   "source": [
    "nomes_paises = ['Peru', 'China', 'Brasil', 'Espanha','Argentina', 'Canadá','Japão'] #Aprendendo listas\n",
    "print(nomes_paises)"
   ]
  },
  {
   "cell_type": "code",
   "execution_count": 3,
   "id": "b8743425",
   "metadata": {},
   "outputs": [
    {
     "name": "stdout",
     "output_type": "stream",
     "text": [
      "Tamanho da lista:  7\n"
     ]
    }
   ],
   "source": [
    "print('Tamanho da lista: ', len(nomes_paises))"
   ]
  },
  {
   "cell_type": "code",
   "execution_count": 4,
   "id": "9ee744eb",
   "metadata": {},
   "outputs": [
    {
     "name": "stdout",
     "output_type": "stream",
     "text": [
      "País:  Espanha\n"
     ]
    }
   ],
   "source": [
    "print(\"País: \", nomes_paises[3])"
   ]
  },
  {
   "cell_type": "code",
   "execution_count": 5,
   "id": "edc74965",
   "metadata": {},
   "outputs": [
    {
     "name": "stdout",
     "output_type": "stream",
     "text": [
      "País:  Espanha\n"
     ]
    }
   ],
   "source": [
    "print(\"País: \", nomes_paises[-4])"
   ]
  },
  {
   "cell_type": "code",
   "execution_count": 6,
   "id": "068cf415",
   "metadata": {},
   "outputs": [
    {
     "name": "stdout",
     "output_type": "stream",
     "text": [
      "País:  EUA\n",
      "['Peru', 'China', 'Brasil', 'Espanha', 'Argentina', 'EUA', 'Japão']\n"
     ]
    }
   ],
   "source": [
    "nomes_paises[5] = 'EUA'\n",
    "print('País: ', nomes_paises[5])\n",
    "print(nomes_paises)"
   ]
  },
  {
   "cell_type": "code",
   "execution_count": 7,
   "id": "f8aa8ba2",
   "metadata": {},
   "outputs": [
    {
     "ename": "IndexError",
     "evalue": "list assignment index out of range",
     "output_type": "error",
     "traceback": [
      "\u001b[0;31m---------------------------------------------------------------------------\u001b[0m",
      "\u001b[0;31mIndexError\u001b[0m                                Traceback (most recent call last)",
      "\u001b[0;32m/tmp/ipykernel_4552/2302315529.py\u001b[0m in \u001b[0;36m<module>\u001b[0;34m\u001b[0m\n\u001b[0;32m----> 1\u001b[0;31m \u001b[0mnomes_paises\u001b[0m\u001b[0;34m[\u001b[0m\u001b[0;36m10\u001b[0m\u001b[0;34m]\u001b[0m \u001b[0;34m=\u001b[0m \u001b[0;34m'Chile'\u001b[0m\u001b[0;34m\u001b[0m\u001b[0;34m\u001b[0m\u001b[0m\n\u001b[0m",
      "\u001b[0;31mIndexError\u001b[0m: list assignment index out of range"
     ]
    }
   ],
   "source": [
    "nomes_paises[10] = 'Chile'"
   ]
  },
  {
   "cell_type": "code",
   "execution_count": 8,
   "id": "f1379e99",
   "metadata": {},
   "outputs": [
    {
     "name": "stdout",
     "output_type": "stream",
     "text": [
      "['Brasil', 'Espanha', 'Argentina', 'EUA']\n"
     ]
    }
   ],
   "source": [
    "print(nomes_paises[2:6])"
   ]
  },
  {
   "cell_type": "code",
   "execution_count": 15,
   "id": "7a8f4f05",
   "metadata": {},
   "outputs": [
    {
     "name": "stdout",
     "output_type": "stream",
     "text": [
      "['Brasil', 'Espanha', 'Argentina', 'EUA']\n"
     ]
    }
   ],
   "source": [
    "print(nomes_paises[2:-1])"
   ]
  },
  {
   "cell_type": "code",
   "execution_count": 17,
   "id": "ea7a415a",
   "metadata": {},
   "outputs": [
    {
     "name": "stdout",
     "output_type": "stream",
     "text": [
      "['Brasil', 'Espanha', 'Argentina', 'EUA', 'Japão']\n"
     ]
    }
   ],
   "source": [
    "print(nomes_paises[2:])"
   ]
  },
  {
   "cell_type": "code",
   "execution_count": 18,
   "id": "a2f1e453",
   "metadata": {},
   "outputs": [
    {
     "name": "stdout",
     "output_type": "stream",
     "text": [
      "['Peru', 'China', 'Brasil']\n"
     ]
    }
   ],
   "source": [
    "print(nomes_paises[:3])"
   ]
  },
  {
   "cell_type": "code",
   "execution_count": 19,
   "id": "20e9e82e",
   "metadata": {},
   "outputs": [
    {
     "name": "stdout",
     "output_type": "stream",
     "text": [
      "['Peru', 'China', 'Brasil', 'Espanha', 'Argentina', 'EUA', 'Japão']\n"
     ]
    }
   ],
   "source": [
    "print(nomes_paises[:])"
   ]
  },
  {
   "cell_type": "code",
   "execution_count": 20,
   "id": "a0ab9027",
   "metadata": {},
   "outputs": [
    {
     "name": "stdout",
     "output_type": "stream",
     "text": [
      "['Peru', 'Brasil', 'Argentina', 'Japão']\n"
     ]
    }
   ],
   "source": [
    "print(nomes_paises[::2])"
   ]
  },
  {
   "cell_type": "code",
   "execution_count": 21,
   "id": "f277d934",
   "metadata": {},
   "outputs": [
    {
     "name": "stdout",
     "output_type": "stream",
     "text": [
      "['Japão', 'EUA', 'Argentina', 'Espanha', 'Brasil', 'China', 'Peru']\n"
     ]
    }
   ],
   "source": [
    "print(nomes_paises[::-1])"
   ]
  },
  {
   "cell_type": "code",
   "execution_count": 22,
   "id": "380fbeb4",
   "metadata": {},
   "outputs": [
    {
     "name": "stdout",
     "output_type": "stream",
     "text": [
      "True\n"
     ]
    }
   ],
   "source": [
    "print('Brasil' in nomes_paises)"
   ]
  },
  {
   "cell_type": "code",
   "execution_count": 24,
   "id": "4c140072",
   "metadata": {},
   "outputs": [
    {
     "name": "stdout",
     "output_type": "stream",
     "text": [
      "False\n"
     ]
    }
   ],
   "source": [
    "print('EUA' not in nomes_paises)"
   ]
  },
  {
   "cell_type": "code",
   "execution_count": 25,
   "id": "15f96e2c",
   "metadata": {},
   "outputs": [],
   "source": [
    "lista_capitais = []"
   ]
  },
  {
   "cell_type": "code",
   "execution_count": 28,
   "id": "a07ff668",
   "metadata": {},
   "outputs": [
    {
     "name": "stdout",
     "output_type": "stream",
     "text": [
      "['Natal', 'Washington', 'Brasília', 'Madrid', 'Pequim', 'Washington', 'Brasília', 'Madrid', 'Pequim']\n"
     ]
    }
   ],
   "source": [
    "lista_capitais.append('Washington')\n",
    "lista_capitais.append('Brasília')\n",
    "lista_capitais.append('Madrid')\n",
    "lista_capitais.append('Pequim')\n",
    "print(lista_capitais)"
   ]
  },
  {
   "cell_type": "code",
   "execution_count": 29,
   "id": "6ad0b2f4",
   "metadata": {},
   "outputs": [
    {
     "name": "stdout",
     "output_type": "stream",
     "text": [
      "['Natal', 'Washington', 'Paris', 'Brasília', 'Madrid', 'Pequim', 'Washington', 'Brasília', 'Madrid', 'Pequim']\n"
     ]
    }
   ],
   "source": [
    "lista_capitais.insert(2, 'Paris')\n",
    "print(lista_capitais)"
   ]
  },
  {
   "cell_type": "code",
   "execution_count": 30,
   "id": "292c1f95",
   "metadata": {},
   "outputs": [
    {
     "name": "stdout",
     "output_type": "stream",
     "text": [
      "['Natal', 'Paris', 'Brasília', 'Madrid', 'Pequim', 'Washington', 'Brasília', 'Madrid', 'Pequim']\n"
     ]
    }
   ],
   "source": [
    "lista_capitais.remove('Washington')\n",
    "print(lista_capitais)"
   ]
  },
  {
   "cell_type": "code",
   "execution_count": 36,
   "id": "335e93ea",
   "metadata": {},
   "outputs": [
    {
     "name": "stdout",
     "output_type": "stream",
     "text": [
      "['Paris', 'Brasília', 'Madrid', 'Pequim', 'Washington'] Natal\n"
     ]
    }
   ],
   "source": [
    "removido = lista_capitais.pop(0)\n",
    "print(lista_capitais, removido)"
   ]
  },
  {
   "cell_type": "code",
   "execution_count": 37,
   "id": "cfb5cbac",
   "metadata": {},
   "outputs": [
    {
     "name": "stdout",
     "output_type": "stream",
     "text": [
      "('Peru', 'China', 'Brasil', 'Espanha', 'Argentina', 'Canadá', 'Japão') <class 'tuple'>\n"
     ]
    }
   ],
   "source": [
    "nomes_paises = 'Peru', 'China', 'Brasil', 'Espanha','Argentina', 'Canadá','Japão' # Aprendendo Tuplas\n",
    "print(nomes_paises, type(nomes_paises))"
   ]
  },
  {
   "cell_type": "code",
   "execution_count": 40,
   "id": "3c91c5cf",
   "metadata": {},
   "outputs": [
    {
     "name": "stdout",
     "output_type": "stream",
     "text": [
      "('Rio Grande Do Norte',) <class 'tuple'>\n"
     ]
    }
   ],
   "source": [
    "nome_estado = 'Rio Grande Do Norte',\n",
    "print(nome_estado, type(nome_estado))"
   ]
  },
  {
   "cell_type": "code",
   "execution_count": 41,
   "id": "16239008",
   "metadata": {},
   "outputs": [
    {
     "data": {
      "text/plain": [
       "7"
      ]
     },
     "execution_count": 41,
     "metadata": {},
     "output_type": "execute_result"
    }
   ],
   "source": [
    "len(nomes_paises)"
   ]
  },
  {
   "cell_type": "code",
   "execution_count": 43,
   "id": "11dba16c",
   "metadata": {},
   "outputs": [
    {
     "data": {
      "text/plain": [
       "'Peru'"
      ]
     },
     "execution_count": 43,
     "metadata": {},
     "output_type": "execute_result"
    }
   ],
   "source": [
    "nomes_paises[0]"
   ]
  },
  {
   "cell_type": "code",
   "execution_count": 44,
   "id": "581817af",
   "metadata": {},
   "outputs": [],
   "source": [
    "p, c, b, e, a, ca, j = nomes_paises"
   ]
  },
  {
   "cell_type": "code",
   "execution_count": 45,
   "id": "18138c2d",
   "metadata": {},
   "outputs": [
    {
     "name": "stdout",
     "output_type": "stream",
     "text": [
      "Peru Espanha\n"
     ]
    }
   ],
   "source": [
    "print(p, e)"
   ]
  },
  {
   "cell_type": "code",
   "execution_count": 46,
   "id": "f406fd19",
   "metadata": {},
   "outputs": [
    {
     "name": "stdout",
     "output_type": "stream",
     "text": [
      "Peru China Brasil Espanha Argentina Canadá Japão\n"
     ]
    }
   ],
   "source": [
    "print(*nomes_paises)"
   ]
  },
  {
   "cell_type": "code",
   "execution_count": null,
   "id": "777b8a4e",
   "metadata": {},
   "outputs": [],
   "source": []
  }
 ],
 "metadata": {
  "kernelspec": {
   "display_name": "Python 3 (ipykernel)",
   "language": "python",
   "name": "python3"
  },
  "language_info": {
   "codemirror_mode": {
    "name": "ipython",
    "version": 3
   },
   "file_extension": ".py",
   "mimetype": "text/x-python",
   "name": "python",
   "nbconvert_exporter": "python",
   "pygments_lexer": "ipython3",
   "version": "3.9.7"
  }
 },
 "nbformat": 4,
 "nbformat_minor": 5
}

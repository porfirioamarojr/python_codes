{
 "cells": [
  {
   "cell_type": "code",
   "execution_count": 9,
   "id": "c01954ee",
   "metadata": {},
   "outputs": [],
   "source": [
    "import qrcode as qr"
   ]
  },
  {
   "cell_type": "code",
   "execution_count": 10,
   "id": "28d709f2",
   "metadata": {},
   "outputs": [],
   "source": [
    "imagemqr = qr.make(\"https://www.museudoserido.ufrn.br/\")\n",
    "imagemqr.save(\"qrmuseu.png\")"
   ]
  },
  {
   "cell_type": "code",
   "execution_count": 7,
   "id": "4673c0ad",
   "metadata": {},
   "outputs": [
    {
     "name": "stdout",
     "output_type": "stream",
     "text": [
      "Defaulting to user installation because normal site-packages is not writeable\n",
      "Requirement already satisfied: qrcode in /home/amaroj/.local/lib/python3.10/site-packages (7.3.1)\n"
     ]
    }
   ],
   "source": [
    "!pip install qrcode"
   ]
  },
  {
   "cell_type": "code",
   "execution_count": null,
   "id": "dc09334a",
   "metadata": {},
   "outputs": [],
   "source": []
  }
 ],
 "metadata": {
  "kernelspec": {
   "display_name": "Python 3 (ipykernel)",
   "language": "python",
   "name": "python3"
  },
  "language_info": {
   "codemirror_mode": {
    "name": "ipython",
    "version": 3
   },
   "file_extension": ".py",
   "mimetype": "text/x-python",
   "name": "python",
   "nbconvert_exporter": "python",
   "pygments_lexer": "ipython3",
   "version": "3.10.6"
  }
 },
 "nbformat": 4,
 "nbformat_minor": 5
}
